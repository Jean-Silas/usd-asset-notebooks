{
 "cells": [
  {
   "cell_type": "markdown",
   "metadata": {},
   "source": [
    "# Building Simple VFX Assets\n",
    "\n",
    "This notebook is an adaptation of [Paolo Selva's VFX Intent](https://github.com/paoloemilioselva/assets/tree/structure-for-first-intent/intent-vfx-v1.0), meant to serve as a small example of how notesbooks can be used to demonstrate asset workflows. This notebook is designed to be run locally, ideally in an environment with `usdview`. "
   ]
  },
  {
   "cell_type": "markdown",
   "metadata": {},
   "source": [
    "## Step Zero: Setup\n",
    "\n",
    "This notebook relies on two sets of utility functions:\n",
    "1. Some USD-wrangling utils, which have been set up in `./src/utils.py`\n",
    "2. Some utilities for downloading individual assets from [usd-wg/assets](https://github.com/usd-wg/assets), which have been set up in `./src/pull.py`\n",
    " \n",
    "The code block below handles the setup for that, and includes some global flags for asset handling. "
   ]
  },
  {
   "cell_type": "code",
   "execution_count": null,
   "metadata": {},
   "outputs": [],
   "source": [
    "%load_ext autoreload\n",
    "%autoreload 2\n",
    "\n",
    "import os\n",
    "import sys\n",
    "import subprocess\n",
    "\n",
    "local_scripts_path = os.path.abspath(os.path.join('../src')) \n",
    "sys.path.insert(0, local_scripts_path)\n",
    "\n",
    "LOCAL_ASSETS = False\n",
    "OPEN_USDVIEW = False\n",
    "PRINT_LAYER = False\n",
    "\n",
    "OUT_DIR = \"./out/\"\n",
    "\n",
    "if not LOCAL_ASSETS:\n",
    "    from src import pull\n",
    "    pull.teapot()\n"
   ]
  },
  {
   "cell_type": "markdown",
   "metadata": {},
   "source": [
    "## Setup Geometry"
   ]
  },
  {
   "cell_type": "code",
   "execution_count": null,
   "metadata": {},
   "outputs": [],
   "source": [
    "import subprocess\n",
    "from pxr import Sdf, Usd, UsdGeom, UsdShade\n",
    "from src import utils\n",
    "\n",
    "# main details for current asset\n",
    "#\n",
    "asset_name = \"teapot\"\n",
    "root_path = Sdf.Path.absoluteRootPath\n",
    "root_asset_path = root_path.AppendChild(asset_name)\n",
    "\n",
    "# build lower-level usd file with actual geometry\n",
    "#\n",
    "geo_filename = 'geo.usd'\n",
    "default_shapes = []\n",
    "with utils.make_stage(OUT_DIR + geo_filename) as stage:\n",
    "    # build root\n",
    "    root = utils.build_asset_root(stage, root_asset_path)\n",
    "    # at geometry level we apply the GeomModelAPI schema\n",
    "    UsdGeom.ModelAPI.Apply(root.GetPrim())\n",
    "    # the geo prim to hold proxy and render prims\n",
    "    geo_scope = UsdGeom.Scope.Define(stage, root.GetPath().AppendChild(\"geo\"))\n",
    "    # default purpose prim (no proxy or render)\n",
    "    default = UsdGeom.Scope.Define(stage, geo_scope.GetPath().AppendChild(\"default\"))\n",
    "    default.GetPrim().GetAttribute(\"purpose\").Set(\"default\")\n",
    "\n",
    "    asset_path = \"\"\n",
    "    if LOCAL_ASSETS:\n",
    "        asset_path = \"../in/geo.usd\"\n",
    "    else:\n",
    "        asset_path = \"../../../assets/UtahTeapot.usd\"\n",
    "    default.GetPrim().GetReferences().AddReference(asset_path)\n",
    "\n",
    "    # get default-shapes for later binding\n",
    "    utils.find_type_or_kind(default_shapes, default.GetPrim(), \"Mesh\", \"\", False)\n",
    "    print(default_shapes)\n",
    "    # set default prim and close stage\n",
    "    stage.SetDefaultPrim(root.GetPrim())\n",
    "    \n",
    "    if PRINT_LAYER:\n",
    "        print(stage.ExportToString())\n",
    "\n",
    "    if OPEN_USDVIEW:\n",
    "        subprocess.run(['usdview', OUT_DIR + geo_filename], shell=True)\n",
    "        \n"
   ]
  },
  {
   "cell_type": "markdown",
   "metadata": {},
   "source": [
    "## Setup Materials"
   ]
  },
  {
   "cell_type": "code",
   "execution_count": 3,
   "metadata": {},
   "outputs": [],
   "source": [
    "# build material layer\n",
    "#\n",
    "mtl_filename = 'mtl.usd'\n",
    "with utils.make_stage(OUT_DIR + mtl_filename) as stage:\n",
    "    # build root prim\n",
    "    root = utils.build_asset_root(stage, root_asset_path)\n",
    "    # add geometry reference to root prim\n",
    "    root.GetPrim().GetReferences().AddReference( \"./\" + geo_filename)\n",
    "    # create mtl scope to hold all materials for proxy and render purposes\n",
    "    mtl_scope = UsdGeom.Scope.Define(stage, root.GetPath().AppendChild(\"mtl\"))\n",
    "    # create material and shader for purposes and bind to shapes\n",
    "    default_material = utils.build_material(stage,mtl_scope,\"default_material\")\n",
    "    default_shader_mtlx = utils.build_mtlx_standard_surface(stage,default_material,\"default_shader_mtlx\")\n",
    "    default_shader = utils.build_preview_shader(stage,default_material,\"default_shader\")\n",
    "    for p in default_shapes:\n",
    "        p_over = stage.OverridePrim(p)\n",
    "        UsdShade.MaterialBindingAPI.Apply(p_over)\n",
    "        UsdShade.MaterialBindingAPI(p_over).Bind(default_material)\n",
    "    # set default prima and close stage\n",
    "    stage.SetDefaultPrim(root.GetPrim())\n",
    "\n",
    "    if PRINT_LAYER:\n",
    "        print(stage.ExportToString())\n",
    "\n",
    "    if OPEN_USDVIEW:\n",
    "        subprocess.run(['usdview', OUT_DIR + mtl_filename], shell=True)\n"
   ]
  },
  {
   "cell_type": "markdown",
   "metadata": {},
   "source": [
    "## Setup Payload"
   ]
  },
  {
   "cell_type": "code",
   "execution_count": null,
   "metadata": {},
   "outputs": [],
   "source": [
    "# build top-level payload with geometry and material\n",
    "#\n",
    "payload_filename = 'payload.usd'\n",
    "with utils.make_stage(OUT_DIR + payload_filename) as stage:\n",
    "    # add material layer to sublayers\n",
    "    stage.GetRootLayer().subLayerPaths = [ \"./\" + mtl_filename]\n",
    "    # create root prim\n",
    "    root = utils.build_asset_root(stage, root_asset_path)\n",
    "    # set default prim and close the stage\n",
    "    stage.SetDefaultPrim(root.GetPrim())\n",
    "\n",
    "    if PRINT_LAYER:\n",
    "        print(stage.ExportToString())\n",
    "\n",
    "    if OPEN_USDVIEW:\n",
    "        subprocess.run(['usdview', OUT_DIR + payload_filename], shell=True)"
   ]
  },
  {
   "cell_type": "markdown",
   "metadata": {},
   "source": [
    "## Assemble File"
   ]
  },
  {
   "cell_type": "code",
   "execution_count": 5,
   "metadata": {},
   "outputs": [],
   "source": [
    "# build main asset file\n",
    "#\n",
    "asset_filename = '{}.usd'.format(asset_name)\n",
    "with utils.make_stage(OUT_DIR + asset_filename) as stage:\n",
    "    # build root prim with metadata for current asset\n",
    "    root = utils.build_asset_root(stage, root_asset_path, \n",
    "                            i_asset_name=asset_name, \n",
    "                            i_asset_identifier= \"./\" + payload_filename, \n",
    "                            i_asset_version=\"1.0\")\n",
    "    # add payload to root layer to material and geometry are payloaded\n",
    "    root.GetPrim().GetPayloads().AddPayload( \"./\" + payload_filename)\n",
    "    # set default prim and close the stage\n",
    "    stage.SetDefaultPrim(root.GetPrim())\n",
    "\n",
    "    if PRINT_LAYER:\n",
    "        print(stage.ExportToString())\n",
    "\n",
    "    if OPEN_USDVIEW:\n",
    "        subprocess.run(['usdview', OUT_DIR + asset_filename], shell=True)"
   ]
  }
 ],
 "metadata": {
  "kernelspec": {
   "display_name": ".venv",
   "language": "python",
   "name": "python3"
  },
  "language_info": {
   "codemirror_mode": {
    "name": "ipython",
    "version": 3
   },
   "file_extension": ".py",
   "mimetype": "text/x-python",
   "name": "python",
   "nbconvert_exporter": "python",
   "pygments_lexer": "ipython3",
   "version": "3.11.4"
  }
 },
 "nbformat": 4,
 "nbformat_minor": 2
}
